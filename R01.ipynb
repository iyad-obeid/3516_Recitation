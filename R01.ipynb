{
 "cells": [
  {
   "attachments": {},
   "cell_type": "markdown",
   "id": "f1168867-57c9-427c-82d2-2980de5744ac",
   "metadata": {},
   "source": [
    "**Question 1:** Determine the period (in seconds) and the frequency in (in both Hertz and radians per second) by hand and then create plots in Jupyter Notebook that validate your answers.\n",
    "\n",
    "- $\\cos(7t-0.5)$\n",
    "- $\\cos(12\\pi t - \\pi/4)$ \n",
    "\n",
    "**Question 2:** Express the following as sums of complex exponentials. Validate your answers by plotting in Jupyter Notebook.\n",
    "- $4\\cos(5\\pi t - \\pi/5)$\n",
    "- $3\\cos(2\\pi t + \\pi/7)$\n",
    "\n",
    "**Question 3:** Convert the following signals to cosines by hand, and validate your answers by plotting in Jupyter Notebook.\n",
    "\n",
    "- $(1-2j)e^{j3t} + (1+2j)e^{-j3t}$\n",
    "- $4e^{-j5\\pi t} + 4e^{j5\\pi t}$\n",
    "\n",
    "**Question 4:** Determine or estimate the equation of this function equation. Validate your answer by trying to recreate the plot in Jupyter.\n",
    "\n",
    "<img src=\"./imgs/fig001.png\" width=600 height=60 />\n",
    "\n",
    "**Question 5:** Which of the following functions is most likely the plot of $\\cos(2t)$? Why?\n",
    "\n",
    "<img src=\"./imgs/fig002.png\" width=600 height=60 />\n",
    "\n",
    "**Question 6:** Use your ADALM2000 board to generate sines, square, waves, and triangle waves, and play them out through your speaker. How do they sound the same? How do they *not* sound the same? Connect the signals to the ADALM oscilloscope and look at the signal FFTs. Comment on what makes them similar and/or different.\n"
   ]
  }
 ],
 "metadata": {
  "kernelspec": {
   "display_name": "Python 3 (ipykernel)",
   "language": "python",
   "name": "python3"
  },
  "language_info": {
   "codemirror_mode": {
    "name": "ipython",
    "version": 3
   },
   "file_extension": ".py",
   "mimetype": "text/x-python",
   "name": "python",
   "nbconvert_exporter": "python",
   "pygments_lexer": "ipython3",
   "version": "3.11.4"
  }
 },
 "nbformat": 4,
 "nbformat_minor": 5
}
